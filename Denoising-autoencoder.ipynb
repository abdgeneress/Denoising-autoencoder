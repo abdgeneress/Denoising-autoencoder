{
 "cells": [
  {
   "cell_type": "code",
   "execution_count": 1,
   "metadata": {},
   "outputs": [],
   "source": [
    "import numpy as np\n",
    "import tensorflow as tf\n",
    "import matplotlib.pyplot as plt\n",
    "from tensorflow.examples.tutorials.mnist import input_data"
   ]
  },
  {
   "cell_type": "code",
   "execution_count": 2,
   "metadata": {},
   "outputs": [],
   "source": [
    "# NETOWRK PARAMETERS\n",
    "n_input = 784\n",
    "n_hidden_1 = 256 \n",
    "n_hidden_2 = 256 \n",
    "n_output = 784\n",
    "\n",
    "epochs = 100\n",
    "batch_size = 100\n",
    "disp_step = 10"
   ]
  },
  {
   "cell_type": "code",
   "execution_count": 3,
   "metadata": {},
   "outputs": [
    {
     "name": "stdout",
     "output_type": "stream",
     "text": [
      "PACKAGES LOADED\n",
      "WARNING:tensorflow:From <ipython-input-3-08cee170edd6>:3: read_data_sets (from tensorflow.contrib.learn.python.learn.datasets.mnist) is deprecated and will be removed in a future version.\n",
      "Instructions for updating:\n",
      "Please use alternatives such as official/mnist/dataset.py from tensorflow/models.\n",
      "WARNING:tensorflow:From C:\\Users\\USER\\Anaconda3\\lib\\site-packages\\tensorflow\\contrib\\learn\\python\\learn\\datasets\\mnist.py:260: maybe_download (from tensorflow.contrib.learn.python.learn.datasets.base) is deprecated and will be removed in a future version.\n",
      "Instructions for updating:\n",
      "Please write your own downloading logic.\n",
      "WARNING:tensorflow:From C:\\Users\\USER\\Anaconda3\\lib\\site-packages\\tensorflow\\contrib\\learn\\python\\learn\\datasets\\mnist.py:262: extract_images (from tensorflow.contrib.learn.python.learn.datasets.mnist) is deprecated and will be removed in a future version.\n",
      "Instructions for updating:\n",
      "Please use tf.data to implement this functionality.\n",
      "Extracting data/train-images-idx3-ubyte.gz\n",
      "WARNING:tensorflow:From C:\\Users\\USER\\Anaconda3\\lib\\site-packages\\tensorflow\\contrib\\learn\\python\\learn\\datasets\\mnist.py:267: extract_labels (from tensorflow.contrib.learn.python.learn.datasets.mnist) is deprecated and will be removed in a future version.\n",
      "Instructions for updating:\n",
      "Please use tf.data to implement this functionality.\n",
      "Extracting data/train-labels-idx1-ubyte.gz\n",
      "WARNING:tensorflow:From C:\\Users\\USER\\Anaconda3\\lib\\site-packages\\tensorflow\\contrib\\learn\\python\\learn\\datasets\\mnist.py:110: dense_to_one_hot (from tensorflow.contrib.learn.python.learn.datasets.mnist) is deprecated and will be removed in a future version.\n",
      "Instructions for updating:\n",
      "Please use tf.one_hot on tensors.\n",
      "Extracting data/t10k-images-idx3-ubyte.gz\n",
      "Extracting data/t10k-labels-idx1-ubyte.gz\n",
      "WARNING:tensorflow:From C:\\Users\\USER\\Anaconda3\\lib\\site-packages\\tensorflow\\contrib\\learn\\python\\learn\\datasets\\mnist.py:290: DataSet.__init__ (from tensorflow.contrib.learn.python.learn.datasets.mnist) is deprecated and will be removed in a future version.\n",
      "Instructions for updating:\n",
      "Please use alternatives such as official/mnist/dataset.py from tensorflow/models.\n",
      "MNIST LOADED\n"
     ]
    }
   ],
   "source": [
    "print(\"PACKAGES LOADED\")\n",
    "\n",
    "mnist = input_data.read_data_sets('data/', one_hot=True)\n",
    "trainimg = mnist.train.images\n",
    "trainlabel = mnist.train.labels\n",
    "testimg = mnist.test.images\n",
    "testlabel = mnist.test.labels\n",
    "print(\"MNIST LOADED\")"
   ]
  },
  {
   "cell_type": "code",
   "execution_count": 4,
   "metadata": {},
   "outputs": [],
   "source": [
    "# PLACEHOLDERS\n",
    "x = tf.placeholder(\"float\", [None, n_input])\n",
    "y = tf.placeholder(\"float\", [None, n_output])\n",
    "dropout_keep_prob = tf.placeholder(\"float\")"
   ]
  },
  {
   "cell_type": "code",
   "execution_count": 5,
   "metadata": {},
   "outputs": [
    {
     "name": "stdout",
     "output_type": "stream",
     "text": [
      "WARNING:tensorflow:From C:\\Users\\USER\\Anaconda3\\lib\\site-packages\\tensorflow\\python\\framework\\op_def_library.py:263: colocate_with (from tensorflow.python.framework.ops) is deprecated and will be removed in a future version.\n",
      "Instructions for updating:\n",
      "Colocations handled automatically by placer.\n"
     ]
    }
   ],
   "source": [
    "# WEIGHTS\n",
    "weights = {\n",
    "    'h1': tf.Variable(tf.random_normal([n_input, n_hidden_1])),\n",
    "    'h2': tf.Variable(tf.random_normal([n_hidden_1, n_hidden_2])),\n",
    "    'out': tf.Variable(tf.random_normal([n_hidden_2, n_output]))\n",
    "}\n",
    "biases = {\n",
    "    'b1': tf.Variable(tf.random_normal([n_hidden_1])),\n",
    "    'b2': tf.Variable(tf.random_normal([n_hidden_2])),\n",
    "    'out': tf.Variable(tf.random_normal([n_output]))\n",
    "}\n"
   ]
  },
  {
   "cell_type": "code",
   "execution_count": 7,
   "metadata": {},
   "outputs": [
    {
     "ename": "SyntaxError",
     "evalue": "unexpected character after line continuation character (<ipython-input-7-481afb424a0a>, line 3)",
     "output_type": "error",
     "traceback": [
      "\u001b[1;36m  File \u001b[1;32m\"<ipython-input-7-481afb424a0a>\"\u001b[1;36m, line \u001b[1;32m3\u001b[0m\n\u001b[1;33m    encode_in = tf.nn.sigmoid\\ (tf.add(tf.matmul\\ (x, weights['h1']),\\ biases['b1']))\u001b[0m\n\u001b[1;37m                                                                                      ^\u001b[0m\n\u001b[1;31mSyntaxError\u001b[0m\u001b[1;31m:\u001b[0m unexpected character after line continuation character\n"
     ]
    }
   ],
   "source": [
    "#model operation\n",
    "\n",
    "encode_in = tf.nn.sigmoid\\ (tf.add(tf.matmul\\ (x, weights['h1']),\\ biases['b1'])) \n",
    "\n",
    "encode_out = tf.nn.dropout\\(encode_in, dropout_keep_prob) \n",
    "\n",
    "decode_in = tf.nn.sigmoid\\(tf.add(tf.matmul\\(encode_out, weights['h2']),\\ biases['b2'])) \n",
    "\n",
    "decode_out = tf.nn.dropout(decode_in,\\dropout_keep_prob)"
   ]
  },
  {
   "cell_type": "code",
   "execution_count": 11,
   "metadata": {},
   "outputs": [],
   "source": [
    "y_pred = tf.nn.sigmoid\\\n",
    "         (tf.matmul(decode_out,\\\n",
    "                    weights['out']) +\\\n",
    "          biases['out'])\n"
   ]
  },
  {
   "cell_type": "code",
   "execution_count": 12,
   "metadata": {},
   "outputs": [],
   "source": [
    "# COST\n",
    "cost = tf.reduce_mean(tf.pow(y_pred - y, 2))\n",
    "\n",
    "# OPTIMIZER\n",
    "optmizer = tf.train.RMSPropOptimizer(0.01).minimize(cost)\n",
    "\n",
    "# INITIALIZER\n",
    "init = tf.global_variables_initializer()\n",
    "\n",
    "init = tf.global_variables_initializer()"
   ]
  },
  {
   "cell_type": "code",
   "execution_count": null,
   "metadata": {},
   "outputs": [
    {
     "name": "stdout",
     "output_type": "stream",
     "text": [
      "Start Training\n",
      "Epoch 00/100 average cost: 0.220661\n",
      "Start Test\n",
      "Test label is 5\n",
      "restart Training\n"
     ]
    }
   ],
   "source": [
    "# Launch the graph\n",
    "with tf.Session() as sess:\n",
    "    sess.run(init)\n",
    "    print(\"Start Training\")\n",
    "    for epoch in range(epochs):\n",
    "        num_batch  = int(mnist.train.num_examples/batch_size)\n",
    "        total_cost = 0.\n",
    "        for i in range(num_batch):\n",
    "            batch_xs, batch_ys = mnist.train.next_batch(batch_size)\n",
    "            batch_xs_noisy = batch_xs + 0.3*np.random.randn(batch_size, 784)\n",
    "            feeds = {x: batch_xs_noisy, y: batch_xs, dropout_keep_prob: 0.8}\n",
    "            sess.run(optmizer, feed_dict=feeds)\n",
    "            total_cost += sess.run(cost, feed_dict=feeds)\n",
    "        # DISPLAY\n",
    "        if epoch % disp_step == 0:\n",
    "            print(\"Epoch %02d/%02d average cost: %.6f\"\n",
    "                   % (epoch, epochs, total_cost/num_batch))\n",
    "\n",
    "            # Test one\n",
    "            print(\"Start Test\")\n",
    "            randidx   = np.random.randint\\\n",
    "                        (testimg.shape[0], size=1)\n",
    "            orgvec    = testimg[randidx, :]\n",
    "            testvec   = testimg[randidx, :]\n",
    "            label     = np.argmax(testlabel[randidx, :], 1)\n",
    "\n",
    "            print(\"Test label is %d\" % (label))\n",
    "            noisyvec = testvec + 0.3*np.random.randn(1, 784)\n",
    "            outvec   = sess.run(y_pred,\\\n",
    "                                feed_dict={x: noisyvec,\\\n",
    "                                           dropout_keep_prob: 1})\n",
    "\n",
    "            \n",
    "            print(\"restart Training\")\n",
    "\n",
    "\n",
    "    \n",
    "\"\"\"\"PACKAGES LOADED Extracting data/train-images-idx3-ubyte.gz Extracting data/train-labels-idx1-ubyte.gz\n",
    "Extracting data/t10k-images-idx3-ubyte.gz\n",
    "Extracting data/t10k-labels-idx1-ubyte.gz\n",
    "MNIST LOADED\n",
    "Start Training\n",
    "Epoch 00/100 average cost: 0.212313\n",
    "Start Test\n",
    "Test label is 6\n",
    "restart Training\n",
    "Epoch 10/100 average cost: 0.033660\n",
    "Start Test\n",
    "Test label is 2\n",
    "restart Training\n",
    "Epoch 20/100 average cost: 0.026888\n",
    "Start Test\n",
    "Test label is 6\n",
    "restart Training\n",
    "Epoch 30/100 average cost: 0.023660\n",
    "Start Test\n",
    "Test label is 1\n",
    "restart Training\n",
    "Epoch 40/100 average cost: 0.021740\n",
    "Start Test\n",
    "Test label is 9\n",
    "restart Training\n",
    "Epoch 50/100 average cost: 0.020399\n",
    "Start Test\n",
    "Test label is 0\n",
    "restart Training\n",
    "Epoch 60/100 average cost: 0.019593\n",
    "Start Test\n",
    "Test label is 9\n",
    "restart Training\n",
    "Epoch 70/100 average cost: 0.019026\n",
    "Start Test\n",
    "Test label is 1\n",
    "restart Training\n",
    "Epoch 80/100 average cost: 0.018537\n",
    "Start Test\n",
    "Test label is 4\n",
    "restart Training\n",
    "Epoch 90/100 average cost: 0.018224\n",
    "Start Test\n",
    "Test label is 9\n",
    "restart Training\n",
    "\"\"\"\n"
   ]
  },
  {
   "cell_type": "code",
   "execution_count": null,
   "metadata": {},
   "outputs": [],
   "source": []
  }
 ],
 "metadata": {
  "kernelspec": {
   "display_name": "Python 3",
   "language": "python",
   "name": "python3"
  },
  "language_info": {
   "codemirror_mode": {
    "name": "ipython",
    "version": 3
   },
   "file_extension": ".py",
   "mimetype": "text/x-python",
   "name": "python",
   "nbconvert_exporter": "python",
   "pygments_lexer": "ipython3",
   "version": "3.7.3"
  }
 },
 "nbformat": 4,
 "nbformat_minor": 2
}
